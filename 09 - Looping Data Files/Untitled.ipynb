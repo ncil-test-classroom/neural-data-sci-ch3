{
 "cells": [
  {
   "cell_type": "markdown",
   "id": "01bd6f6e-e6f5-41e7-ba07-87049cdab145",
   "metadata": {},
   "source": [
    "# MRI Data"
   ]
  },
  {
   "cell_type": "code",
   "execution_count": 1,
   "id": "84460cad-0a9e-40bb-9665-bcee063612ed",
   "metadata": {},
   "outputs": [],
   "source": [
    "import imageio\n",
    "import scipy.ndimage as ndi\n",
    "import scipy.stats\n",
    "import nibabel as nib\n",
    "import numpy as np\n",
    "import matplotlib.pyplot as plt"
   ]
  },
  {
   "cell_type": "code",
   "execution_count": null,
   "id": "d761a341-6a8e-4324-a615-9bc75f156c5d",
   "metadata": {},
   "outputs": [],
   "source": []
  }
 ],
 "metadata": {
  "kernelspec": {
   "display_name": "Python 3 (ipykernel)",
   "language": "python",
   "name": "python3"
  },
  "language_info": {
   "codemirror_mode": {
    "name": "ipython",
    "version": 3
   },
   "file_extension": ".py",
   "mimetype": "text/x-python",
   "name": "python",
   "nbconvert_exporter": "python",
   "pygments_lexer": "ipython3",
   "version": "3.9.7"
  }
 },
 "nbformat": 4,
 "nbformat_minor": 5
}
